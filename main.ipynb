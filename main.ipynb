{
 "cells": [
  {
   "cell_type": "markdown",
   "metadata": {},
   "source": [
    "# LABORATORIO # 4"
   ]
  },
  {
   "cell_type": "code",
   "execution_count": 18,
   "metadata": {},
   "outputs": [
    {
     "name": "stderr",
     "output_type": "stream",
     "text": [
      "[nltk_data] Downloading package punkt to\n",
      "[nltk_data]     C:\\Users\\josem\\AppData\\Roaming\\nltk_data...\n",
      "[nltk_data]   Package punkt is already up-to-date!\n",
      "[nltk_data] Downloading package stopwords to\n",
      "[nltk_data]     C:\\Users\\josem\\AppData\\Roaming\\nltk_data...\n",
      "[nltk_data]   Package stopwords is already up-to-date!\n"
     ]
    }
   ],
   "source": [
    "import pandas as pd\n",
    "import re\n",
    "import nltk\n",
    "from nltk.corpus import stopwords\n",
    "from nltk.tokenize import word_tokenize\n",
    "nltk.download('punkt')\n",
    "nltk.download('stopwords')\n",
    "from sklearn.feature_extraction.text import CountVectorizer\n",
    "from sklearn.model_selection import train_test_split\n",
    "from sklearn.feature_extraction.text import TfidfVectorizer\n",
    "from sklearn.naive_bayes import MultinomialNB\n",
    "from sklearn.metrics import accuracy_score, classification_report\n",
    "from sklearn.feature_extraction.text import CountVectorizer"
   ]
  },
  {
   "cell_type": "markdown",
   "metadata": {},
   "source": [
    "## Descripcion de los datos"
   ]
  },
  {
   "cell_type": "code",
   "execution_count": 19,
   "metadata": {},
   "outputs": [],
   "source": [
    "# Cargar el conjunto de datos\n",
    "data = pd.read_csv('train.csv')"
   ]
  },
  {
   "cell_type": "code",
   "execution_count": 20,
   "metadata": {},
   "outputs": [
    {
     "name": "stdout",
     "output_type": "stream",
     "text": [
      "<class 'pandas.core.frame.DataFrame'>\n",
      "RangeIndex: 7613 entries, 0 to 7612\n",
      "Data columns (total 5 columns):\n",
      " #   Column    Non-Null Count  Dtype \n",
      "---  ------    --------------  ----- \n",
      " 0   id        7613 non-null   int64 \n",
      " 1   keyword   7552 non-null   object\n",
      " 2   location  5080 non-null   object\n",
      " 3   text      7613 non-null   object\n",
      " 4   target    7613 non-null   int64 \n",
      "dtypes: int64(2), object(3)\n",
      "memory usage: 297.5+ KB\n",
      "None\n",
      "                 id      target\n",
      "count   7613.000000  7613.00000\n",
      "mean    5441.934848     0.42966\n",
      "std     3137.116090     0.49506\n",
      "min        1.000000     0.00000\n",
      "25%     2734.000000     0.00000\n",
      "50%     5408.000000     0.00000\n",
      "75%     8146.000000     1.00000\n",
      "max    10873.000000     1.00000\n",
      "target\n",
      "0    4342\n",
      "1    3271\n",
      "Name: count, dtype: int64\n",
      "221\n",
      "3341\n",
      "id             0\n",
      "keyword       61\n",
      "location    2533\n",
      "text           0\n",
      "target         0\n",
      "dtype: int64\n"
     ]
    }
   ],
   "source": [
    "# Información general del conjunto de datos\n",
    "print(data.info())\n",
    "\n",
    "# Estadísticas descriptivas\n",
    "print(data.describe())\n",
    "\n",
    "# Valores únicos en 'target'\n",
    "print(data['target'].value_counts())\n",
    "\n",
    "# Cantidad de palabras clave y ubicaciones únicas\n",
    "print(data['keyword'].nunique())\n",
    "print(data['location'].nunique())\n",
    "\n",
    "# Valores nulos por columna\n",
    "print(data.isnull().sum())"
   ]
  },
  {
   "cell_type": "code",
   "execution_count": 21,
   "metadata": {},
   "outputs": [
    {
     "name": "stdout",
     "output_type": "stream",
     "text": [
      "Unigramas más comunes:\n",
      "http       4309\n",
      "https       411\n",
      "û_          348\n",
      "like        348\n",
      "amp         344\n",
      "just        323\n",
      "new         226\n",
      "û_ http     217\n",
      "people      200\n",
      "news        197\n",
      "dtype: int64\n",
      "\n",
      "Bigramas más comunes:\n",
      "http       4309\n",
      "https       411\n",
      "û_          348\n",
      "like        348\n",
      "amp         344\n",
      "just        323\n",
      "new         226\n",
      "û_ http     217\n",
      "people      200\n",
      "news        197\n",
      "dtype: int64\n"
     ]
    }
   ],
   "source": [
    "# Crear un CountVectorizer para unigramas y bigramas\n",
    "vectorizer = CountVectorizer(ngram_range=(1, 2), stop_words='english')\n",
    "\n",
    "# Ajustar y transformar el texto preprocesado\n",
    "X = vectorizer.fit_transform(data['text'])\n",
    "\n",
    "# Obtener los nombres de las características (unigramas y bigramas)\n",
    "feature_names = vectorizer.get_feature_names_out()\n",
    "\n",
    "# Crear un DataFrame para visualizar los unigramas y bigramas más frecuentes\n",
    "n_grams_df = pd.DataFrame(X.toarray(), columns=feature_names)\n",
    "\n",
    "# Calcular la suma de los unigramas y bigramas para obtener los más comunes\n",
    "most_common_unigrams = n_grams_df.sum().sort_values(ascending=False).head(10)\n",
    "most_common_bigrams = n_grams_df.sum(axis=0).sort_values(ascending=False).head(10)\n",
    "\n",
    "print(\"Unigramas más comunes:\")\n",
    "print(most_common_unigrams)\n",
    "\n",
    "print(\"\\nBigramas más comunes:\")\n",
    "print(most_common_bigrams)\n"
   ]
  },
  {
   "cell_type": "markdown",
   "metadata": {},
   "source": []
  },
  {
   "cell_type": "code",
   "execution_count": 22,
   "metadata": {},
   "outputs": [
    {
     "name": "stdout",
     "output_type": "stream",
     "text": [
      "Exactitud del modelo: 0.7997373604727511\n",
      "\n",
      "Informe de clasificación:\n",
      "               precision    recall  f1-score   support\n",
      "\n",
      "           0       0.77      0.93      0.84       874\n",
      "           1       0.86      0.63      0.73       649\n",
      "\n",
      "    accuracy                           0.80      1523\n",
      "   macro avg       0.82      0.78      0.78      1523\n",
      "weighted avg       0.81      0.80      0.79      1523\n",
      "\n"
     ]
    }
   ],
   "source": [
    "# Dividir los datos en conjuntos de entrenamiento y prueba\n",
    "X_train, X_test, y_train, y_test = train_test_split(data['text'], data['target'], test_size=0.2, random_state=42)\n",
    "\n",
    "# Crear un TfidfVectorizer para transformar el texto en características numéricas\n",
    "vectorizer = TfidfVectorizer()\n",
    "X_train_vec = vectorizer.fit_transform(X_train)\n",
    "X_test_vec = vectorizer.transform(X_test)\n",
    "\n",
    "# Crear y entrenar un modelo Naive Bayes\n",
    "model = MultinomialNB()\n",
    "model.fit(X_train_vec, y_train)\n",
    "\n",
    "# Realizar predicciones en el conjunto de prueba\n",
    "predictions = model.predict(X_test_vec)\n",
    "\n",
    "# Evaluar el modelo\n",
    "accuracy = accuracy_score(y_test, predictions)\n",
    "report = classification_report(y_test, predictions)\n",
    "\n",
    "print(\"Exactitud del modelo:\", accuracy)\n",
    "print(\"\\nInforme de clasificación:\\n\", report)"
   ]
  },
  {
   "cell_type": "code",
   "execution_count": 23,
   "metadata": {},
   "outputs": [],
   "source": [
    "# # Convertir el texto a minúsculas\n",
    "# data['text'] = data['text'].str.lower()\n",
    "\n",
    "# # Quitar caracteres especiales como #, @ y apóstrofes\n",
    "# data['text'] = data['text'].apply(lambda text: re.sub(r'[@#’]', '', text))\n",
    "\n",
    "# # Quitar las URLs\n",
    "# data['text'] = data['text'].apply(lambda text: re.sub(r'http\\S+', '', text))\n",
    "\n",
    "# # Quitar emoticones\n",
    "# data['text'] = data['text'].apply(lambda text: re.sub(r'[^\\w\\s]', '', text))\n",
    "\n",
    "# # Quitar signos de puntuación\n",
    "# data['text'] = data['text'].apply(lambda text: re.sub(r'[^\\w\\s]', '', text))\n",
    "\n",
    "# # Tokenizar el texto\n",
    "# data['text'] = data['text'].apply(word_tokenize)\n",
    "\n",
    "# # Definir lista de stopwords en español\n",
    "# stop_words = set(stopwords.words('spanish'))\n",
    "\n",
    "# # Quitar stopwords\n",
    "# data['text'] = data['text'].apply(lambda tokens: [word for word in tokens if word not in stop_words])\n",
    "\n",
    "# # Quitar números excepto \"911\"\n",
    "# data['text'] = data['text'].apply(lambda tokens: [word for word in tokens if word == '911' or not word.isdigit()])\n",
    "\n",
    "# # Unir tokens de nuevo en texto\n",
    "# data['text'] = data['text'].apply(lambda tokens: ' '.join(tokens))\n",
    "\n",
    "# # Guardar el conjunto de datos preprocesado\n",
    "# data.to_csv('preprocessed_data.csv', index=False)\n"
   ]
  }
 ],
 "metadata": {
  "kernelspec": {
   "display_name": "Python 3",
   "language": "python",
   "name": "python3"
  },
  "language_info": {
   "codemirror_mode": {
    "name": "ipython",
    "version": 3
   },
   "file_extension": ".py",
   "mimetype": "text/x-python",
   "name": "python",
   "nbconvert_exporter": "python",
   "pygments_lexer": "ipython3",
   "version": "3.11.4"
  },
  "orig_nbformat": 4
 },
 "nbformat": 4,
 "nbformat_minor": 2
}
